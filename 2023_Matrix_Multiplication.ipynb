{
  "nbformat": 4,
  "nbformat_minor": 0,
  "metadata": {
    "colab": {
      "provenance": [],
      "collapsed_sections": [
        "iwd38XvZK2sy",
        "0fsEMpauK8lW",
        "17aUKkNJqTDZ"
      ],
      "toc_visible": true,
      "include_colab_link": true
    },
    "kernelspec": {
      "name": "python3",
      "display_name": "Python 3"
    },
    "accelerator": "GPU"
  },
  "cells": [
    {
      "cell_type": "markdown",
      "metadata": {
        "id": "view-in-github",
        "colab_type": "text"
      },
      "source": [
        "<a href=\"https://colab.research.google.com/github/ahmedbellaaj10/GPGPU_TP/blob/main/2023_Matrix_Multiplication.ipynb\" target=\"_parent\"><img src=\"https://colab.research.google.com/assets/colab-badge.svg\" alt=\"Open In Colab\"/></a>"
      ]
    },
    {
      "cell_type": "markdown",
      "metadata": {
        "id": "cweMlOB0L4mG"
      },
      "source": [
        "# Code"
      ]
    },
    {
      "cell_type": "markdown",
      "metadata": {
        "id": "Po-TEvrWMJ_a"
      },
      "source": [
        "## CUDA Utilities"
      ]
    },
    {
      "cell_type": "code",
      "metadata": {
        "colab": {
          "base_uri": "https://localhost:8080/"
        },
        "id": "c-lgwhE1N5_7",
        "outputId": "a5f013fb-dc29-442a-c677-cb667ac647b7"
      },
      "source": [
        "%%writefile cuda_stuff.cuh\n",
        "#ifndef cuda_stuff_H\n",
        "#define cuda_stuff_H\n",
        "\n",
        "#include <stdio.h>\n",
        "#include <stdlib.h>\n",
        "#include <cuda.h>\n",
        "#include <cuda_runtime.h>\n",
        "\n",
        "//MACRO TO DEBUG CUDA FUNCTIONS\n",
        "/** Error checking,\n",
        " *  taken from https://stackoverflow.com/questions/14038589/what-is-the-canonical-way-to-check-for-errors-using-the-cuda-runtime-api\n",
        " */\n",
        "#define gpuErrchk(ans) { gpuAssert((ans), __FILE__, __LINE__); }\n",
        "inline void gpuAssert(cudaError_t code, const char *file, int line, bool abort=true)\n",
        "{\n",
        "   if (code != cudaSuccess)\n",
        "   {\n",
        "      fprintf(stderr,\"GPUassert: %s %s %d\\n\", cudaGetErrorString(code), file, line);\n",
        "      if (abort) exit(code);\n",
        "   }\n",
        "}\n",
        "\n",
        "void device_synchronize();\n",
        "\n",
        "#endif\n"
      ],
      "execution_count": 1,
      "outputs": [
        {
          "output_type": "stream",
          "name": "stdout",
          "text": [
            "Writing cuda_stuff.cuh\n"
          ]
        }
      ]
    },
    {
      "cell_type": "code",
      "metadata": {
        "id": "iivrxLaYOYPh",
        "colab": {
          "base_uri": "https://localhost:8080/"
        },
        "outputId": "f26ea7b8-f89b-4560-9058-54d56a1a5eba"
      },
      "source": [
        "%%writefile cuda_stuff.cu\n",
        "#include <stdio.h>\n",
        "#include <stdlib.h>\n",
        "#include <cuda.h>\n",
        "#include <cuda_runtime.h>\n",
        "\n",
        "#include \"cuda_stuff.cuh\"\n",
        "\n",
        "void device_synchronize(){\n",
        "    gpuErrchk(cudaDeviceSynchronize());\n",
        "}"
      ],
      "execution_count": 2,
      "outputs": [
        {
          "output_type": "stream",
          "name": "stdout",
          "text": [
            "Writing cuda_stuff.cu\n"
          ]
        }
      ]
    },
    {
      "cell_type": "markdown",
      "metadata": {
        "id": "0fsEMpauK8lW"
      },
      "source": [
        "## Matrix Tools"
      ]
    },
    {
      "cell_type": "code",
      "metadata": {
        "colab": {
          "base_uri": "https://localhost:8080/"
        },
        "id": "A97U902HMog4",
        "outputId": "fb99a21f-d7b4-4c6a-eb75-fa4c2444b0dd"
      },
      "source": [
        "%%writefile fmatrix.cuh\n",
        "#ifndef fmatrices_H\n",
        "#define fmatrices_H\n",
        "#include <stddef.h>\n",
        "\n",
        "typedef struct {\n",
        "    float* data;\n",
        "    size_t cols;\n",
        "    size_t rows;\n",
        "} fmatrix;\n",
        "\n",
        "/* transform matrix index to vector offset\n",
        "   Since CUDA uses column major,\n",
        "   nb_rows = number of rows */\n",
        "#define IDX2C(i,j,nb_rows) (((j)*(nb_rows))+(i))\n",
        "\n",
        "/* Access element (i,j) of matrix mat */\n",
        "#define getfm(mat,i,j) (mat.data[IDX2C(i,j,mat.rows)])\n",
        "\n",
        "\n",
        "size_t fmatrix_elements(fmatrix mat);\n",
        "size_t fmatrix_size(fmatrix mat);\n",
        "void fmatrix_init(fmatrix mat, float f);\n",
        "/** Assert that the matrix is coherent: all fields nonzero. */\n",
        "void fmatrix_assert();\n",
        "\n",
        "fmatrix fmatrix_create_on_host(size_t rows, size_t cols);\n",
        "fmatrix fmatrix_create_on_device(size_t rows, size_t cols);\n",
        "\n",
        "void fmatrix_data_to_host(fmatrix mat_host, fmatrix mat_device);\n",
        "void fmatrix_data_to_device(fmatrix mat_host, fmatrix mat_device);\n",
        "\n",
        "void fmatrix_free_on_host(fmatrix* mat);\n",
        "void fmatrix_free_on_device(fmatrix* mat);\n",
        "\n",
        "/** Print the first nb rows of the matrix mat\n",
        " *  on the host.\n",
        " *  If nb<0, print all rows.\n",
        " */\n",
        "void fmatrix_host_print(fmatrix mat, int nb=-1);\n",
        "\n",
        "/** Print the first nb rows of the matrix mat\n",
        " *  on the device.\n",
        " *  If nb<0, print all rows.\n",
        " */\n",
        "void fmatrix_device_print(fmatrix mat, int nb=-1);\n",
        "\n",
        "#endif\n"
      ],
      "execution_count": 3,
      "outputs": [
        {
          "output_type": "stream",
          "name": "stdout",
          "text": [
            "Writing fmatrix.cuh\n"
          ]
        }
      ]
    },
    {
      "cell_type": "code",
      "metadata": {
        "colab": {
          "base_uri": "https://localhost:8080/"
        },
        "id": "wGwZ36ifWQ-d",
        "outputId": "f33ebdaf-0cdd-4183-f4b5-d3153f1168fa"
      },
      "source": [
        "%%writefile fmatrix.cu\n",
        "#include <assert.h>\n",
        "#include <stdio.h>\n",
        "#include <stdlib.h>\n",
        "#include <cuda.h>\n",
        "#include <cuda_runtime.h>\n",
        "\n",
        "#include \"cuda_stuff.cuh\"\n",
        "#include \"fmatrix.cuh\"\n",
        "\n",
        "size_t fmatrix_elements(fmatrix mat) {\n",
        "     return mat.cols*mat.rows;\n",
        "}\n",
        "\n",
        "size_t fmatrix_size(fmatrix mat) {\n",
        "     return fmatrix_elements(mat) * sizeof(mat.data[0]);\n",
        "}\n",
        "\n",
        "void fmatrix_init(fmatrix mat, float f) {\n",
        "    for (int i = 0; i < mat.rows; i++){\n",
        "        for (int j = 0; j < mat.cols; j++){\n",
        "            mat.data[IDX2C(i,j,mat.rows)] = f;\n",
        "    }\n",
        "  }\n",
        "}\n",
        "\n",
        "void fmatrix_assert(fmatrix mat) {\n",
        "    assert(mat.data);\n",
        "    assert(mat.cols);\n",
        "    assert(mat.rows);\n",
        "}\n",
        "\n",
        "\n",
        "\n",
        "fmatrix fmatrix_create_on_host(size_t rows, size_t cols) {\n",
        "    assert(cols>0);\n",
        "    assert(rows>0);\n",
        "    fmatrix mat;\n",
        "    mat.cols = cols;\n",
        "    mat.rows = rows;\n",
        "    mat.data = (float*)malloc(fmatrix_size(mat));\n",
        "    assert(mat.data);\n",
        "    return mat;\n",
        "}\n",
        "\n",
        "fmatrix fmatrix_create_on_device(size_t rows, size_t cols) {\n",
        "    assert(cols>0);\n",
        "    assert(rows>0);\n",
        "    fmatrix mat;\n",
        "    mat.cols = cols;\n",
        "    mat.rows = rows;\n",
        "    gpuErrchk(\n",
        "        cudaMalloc((void **)&(mat.data), fmatrix_size(mat))\n",
        "    );\n",
        "    return mat;\n",
        "}\n",
        "\n",
        "void fmatrix_data_to_device(fmatrix mat_host, fmatrix mat_device) {\n",
        "    fmatrix_assert(mat_host);\n",
        "    fmatrix_assert(mat_device);\n",
        "    assert(mat_host.cols==mat_device.cols);\n",
        "    assert(mat_host.rows==mat_device.rows);\n",
        "    gpuErrchk(\n",
        "        cudaMemcpy( mat_device.data, mat_host.data,\n",
        "                   fmatrix_size(mat_host),\n",
        "                   cudaMemcpyHostToDevice\n",
        "                   )\n",
        "        );\n",
        "}\n",
        "\n",
        "void fmatrix_data_to_host(fmatrix mat_host, fmatrix mat_device) {\n",
        "    fmatrix_assert(mat_host);\n",
        "    fmatrix_assert(mat_device);\n",
        "    assert(mat_host.cols==mat_device.cols);\n",
        "    assert(mat_host.rows==mat_device.rows);\n",
        "    gpuErrchk(\n",
        "        cudaMemcpy( mat_host.data, mat_device.data,\n",
        "                   fmatrix_size(mat_device),\n",
        "                   cudaMemcpyDeviceToHost\n",
        "                   )\n",
        "        );\n",
        "}\n",
        "\n",
        "void fmatrix_free_on_host(fmatrix* mat) {\n",
        "    fmatrix_assert(*mat);\n",
        "  free(mat->data);\n",
        "  mat->data = 0;\n",
        "  mat->cols = 0;\n",
        "  mat->rows = 0;\n",
        "}\n",
        "\n",
        "void fmatrix_free_on_device(fmatrix* mat) {\n",
        "    fmatrix_assert(*mat);\n",
        "  gpuErrchk(cudaFree(mat->data));\n",
        "  mat->data = 0;\n",
        "  mat->cols = 0;\n",
        "  mat->rows = 0;\n",
        "}\n",
        "\n",
        "void fmatrix_host_print(fmatrix mat, int nb){\n",
        "    if (nb<0 || nb > mat.rows) {\n",
        "        nb = mat.rows;\n",
        "    }\n",
        "    printf(\"[\\n\");\n",
        "    for (int i = 0 ; i < nb; i++){\n",
        "      for (int j = 0 ; j<mat.cols; j++){\n",
        "        printf(\"%f\", getfm(mat,i,j));\n",
        "        if (j+1<mat.cols) {\n",
        "          printf(\",\\t\");\n",
        "        }\n",
        "      }\n",
        "      if (i+1<nb) {\n",
        "        printf(\";\\n\");\n",
        "      }\n",
        "    }\n",
        "    if (nb < mat.rows) {\n",
        "      printf(\"\\n...\\n\");\n",
        "    }\n",
        "  printf(\"\\n]\\n\");\n",
        "}\n",
        "\n",
        "void fmatrix_device_print(fmatrix mat, int nb){\n",
        "   // allocate copy\n",
        "   fmatrix tmp = fmatrix_create_on_host(mat.rows, mat.cols);\n",
        "   fmatrix_data_to_host(tmp, mat);\n",
        "   fmatrix_host_print(tmp,nb);\n",
        "   fmatrix_free_on_host(&tmp);\n",
        "}\n",
        "\n"
      ],
      "execution_count": 4,
      "outputs": [
        {
          "output_type": "stream",
          "name": "stdout",
          "text": [
            "Writing fmatrix.cu\n"
          ]
        }
      ]
    },
    {
      "cell_type": "markdown",
      "metadata": {
        "id": "tM266RRGjwUH"
      },
      "source": [
        "## Matrix Math"
      ]
    },
    {
      "cell_type": "code",
      "metadata": {
        "id": "iNjf6dkCfh9t",
        "outputId": "03d5a743-f611-4cd5-af56-fb67602e397e",
        "colab": {
          "base_uri": "https://localhost:8080/"
        }
      },
      "source": [
        "%%writefile sgemm.cuh\n",
        "#ifndef sgemm_H\n",
        "#define sgemm_H\n",
        "\n",
        "#include <string>\n",
        "#include \"fmatrix.cuh\"\n",
        "\n",
        "void mat_mul(fmatrix A, fmatrix B, fmatrix C, std::string arg);\n",
        "\n",
        "#endif"
      ],
      "execution_count": 5,
      "outputs": [
        {
          "output_type": "stream",
          "name": "stdout",
          "text": [
            "Writing sgemm.cuh\n"
          ]
        }
      ]
    },
    {
      "cell_type": "code",
      "metadata": {
        "id": "XdwAnQevYMQX",
        "outputId": "1ce049e4-757b-4fe7-ca14-e1d96b50cf86",
        "colab": {
          "base_uri": "https://localhost:8080/"
        }
      },
      "source": [
        "%%writefile sgemm.cu\n",
        "#include <stdio.h>\n",
        "#include <stdlib.h>\n",
        "#include <string>\n",
        "#include <time.h>\n",
        "#include <math.h>\n",
        "#include <cuda.h>\n",
        "#include <cuda_runtime.h>\n",
        "#include \"cublas_v2.h\"\n",
        "\n",
        "#include \"cuda_stuff.cuh\"\n",
        "#include \"sgemm.cuh\"\n",
        "#include \"fmatrix.cuh\"\n",
        "\n",
        "#define THREADS_PER_BLOCK 1024\n",
        "#define TILE_WIDTH 32\n",
        "\n",
        "using namespace std;\n",
        "\n",
        "static cublasHandle_t handle;\n",
        "static int cublas_init = 0;\n",
        "\n",
        "/* basic matrix multiplication C = alpha*A*B + beta*C on host as reference for the speedup */\n",
        "void matrixMultiplication_basic_host(float alpha, fmatrix A, fmatrix B, float beta, fmatrix C) {\n",
        "  float tmp = 0;\n",
        "  for (int i = 0; i<A.rows; i++){\n",
        "    for (int j = 0; j<B.cols; j++){\n",
        "      for (int k = 0; k<A.cols; k++){\n",
        "        tmp += alpha * getfm(A,i, k) * getfm(B, k, j);\n",
        "      }\n",
        "      getfm(C, i, j) = beta * getfm(C, i, j) + tmp;\n",
        "      tmp = 0;\n",
        "    }\n",
        "  }\n",
        "}\n",
        "\n",
        "/* TODO : 3 different versions of matrix multiplication C = alpha*A*B + beta*C on device */\n",
        "__global__ void matmul_basic_kernel(float alpha, float *A, float *B, float beta, float *C, int nb_ColA, int nb_ColB, int nb_LigneA, int nb_LigneB) {\n",
        "  /* TODO */\n",
        "  row = blockIdx.y * blockDim.y + threadIdx.y;\n",
        "  col = blockIdx.x * blockDim.x + threadIdx.x;\n",
        "\n",
        "  if(row < nb_LigneA && col < nb_ColB){\n",
        "    float sum = 0.0;\n",
        "    for(int( k=0; k < nb_ColA; k++)){\n",
        "      sum += alpha* A[row * nb_ColA] + B[k*nb_ColB + col];\n",
        "    }\n",
        "  C[row * nb_ColB + col] = beta * C[row * nb_ColB + col] + sum;\n",
        "  }\n",
        "}\n",
        "\n",
        "\n",
        "\n",
        "void matrixMultiplication_basic(float alpha, fmatrix d_A, fmatrix d_B, float beta, fmatrix d_C) {\n",
        "  // TODO - declaration of dimGrid and dimBlock\n",
        "  dim3 dimBlock();\n",
        "  dim3 dimGrid();\n",
        "\n",
        "  matmul_basic_kernel <<< dimGrid, dimBlock >>> (alpha, d_A.data, d_B.data, beta, d_C.data, d_A.cols, d_B.cols, d_A.rows, d_B.rows);\n",
        "\n",
        "}\n",
        "\n",
        "/**********************/\n",
        "__global__\n",
        "void matmul_tiled_kernel(float alpha, float *A, float *B, float beta, float *C, int nb_ColA, int nb_ColB, int nb_LigneA, int nb_LigneB){\n",
        "  /* TODO */\n",
        "  // Define shared memory for A and B tiles\n",
        "  __shared__ float tile_A[TILE_WIDTH][TILE_WIDTH];\n",
        "  __shared__ float tile_B[TILE_WIDTH][TILE_WIDTH];\n",
        "\n",
        "  int tx = threadIdx.x , ty = threadIdx.y;\n",
        "  int row = blockIdx.y * TILE_WIDTH + ty;\n",
        "  int col = blockIdx.x * TILE_WIDTH + tx;\n",
        "\n",
        "  float sum = 0.0;\n",
        "  for (int p=0; p< (nb_ColA + TILE_WIDTH -1)/TILE_WIDTH. ++P){\n",
        "    if (row< nb_LigneA && p*TILE_WIDTH + tx < nb_ColA)\n",
        "      tile_A[ty][tx] = A[row*nb_ColA + p*TILE_WIDTH + tx];\n",
        "    else\n",
        "      tile_A[ty][tx] = 0.0;\n",
        "    if (col < nb_ColB && p*TILE_WIDTH + ty < nb_ColA)\n",
        "      tile_B[ty][tx] = B[(p*TILE_WIDTH + ty) * nb_ColB + col];\n",
        "        else\n",
        "            tile_B[ty][tx] = 0.0;\n",
        "\n",
        "        __syncthreads();\n",
        "\n",
        "  }\n",
        "\n",
        "}\n",
        "\n",
        "\n",
        "\n",
        "void matrixMultiplication_tiled(float alpha, fmatrix d_A, fmatrix d_B, float beta, fmatrix d_C){\n",
        "  // TODO - declaration of dimGrid and dimBlock\n",
        "  dim3 dimBlock();\n",
        "  dim3 dimGrid();\n",
        "\n",
        "  matmul_tiled_kernel <<< dimGrid, dimBlock >>> (alpha, d_A.data, d_B.data, beta, d_C.data, d_A.cols, d_B.cols, d_A.rows, d_B.rows);\n",
        "}\n",
        "\n",
        "/**********************/\n",
        "void matrixMultiplication_cublas(float alpha, fmatrix d_A, fmatrix d_B, float beta, fmatrix d_C){\n",
        "  /* TODO */\n",
        "}\n",
        "\n",
        "\n",
        "\n",
        "/*MAIN SGEMM*/\n",
        "void gen_mat_mul(float alpha, fmatrix A, fmatrix B, float beta, fmatrix C, std::string arg){\n",
        "    if (arg == \"cpu\"){\n",
        "        matrixMultiplication_basic_host(alpha, A, B, beta, C);\n",
        "    } else {\n",
        "      /* kernel function*/\n",
        "      if (arg == \"gpu_basic\"){\n",
        "          matrixMultiplication_basic(alpha, A, B, beta, C);\n",
        "\n",
        "      } else if (arg == \"gpu_tiled\"){\n",
        "          matrixMultiplication_tiled(alpha, A, B, beta, C);\n",
        "\n",
        "      } else if (arg == \"gpu_cublas\"){\n",
        "         matrixMultiplication_cublas(alpha, A, B, beta, C);\n",
        "\n",
        "      } else{\n",
        "          printf(\"Matrix Multiplication argument is Wrong\");\n",
        "          exit(0);\n",
        "      }\n",
        "      // wait for everything to finish\n",
        "      device_synchronize();\n",
        "    }\n",
        "}\n",
        "\n",
        "void mat_mul(fmatrix A, fmatrix B, fmatrix C, std::string arg){\n",
        " gen_mat_mul(1.0, A, B, 0.0, C, arg);\n",
        "}\n"
      ],
      "execution_count": 6,
      "outputs": [
        {
          "output_type": "stream",
          "name": "stdout",
          "text": [
            "Writing sgemm.cu\n"
          ]
        }
      ]
    },
    {
      "cell_type": "markdown",
      "metadata": {
        "id": "cnpSu2wH2ooy"
      },
      "source": [
        "# Main"
      ]
    },
    {
      "cell_type": "code",
      "metadata": {
        "id": "kWEplkuA2Ygf"
      },
      "source": [
        "%%writefile main.cu\n",
        "\n",
        "#include <stdio.h>\n",
        "#include <stdlib.h>\n",
        "#include \"fmatrix.cuh\"\n",
        "#include \"sgemm.cuh\"\n",
        "\n",
        "#define TILE_WIDTH 32\n",
        "#define SIZE 40\n",
        "\n",
        "int main(void)\n",
        "{\n",
        "  /* Allocate and initialize data on host */\n",
        "  fmatrix A = fmatrix_create_on_host(TILE_WIDTH * SIZE, TILE_WIDTH * SIZE);\n",
        "  fmatrix_init(A, 1.0);\n",
        "  fmatrix B = fmatrix_create_on_host(TILE_WIDTH * SIZE, TILE_WIDTH * SIZE);\n",
        "  fmatrix_init(B, 2.0);\n",
        "  fmatrix C = fmatrix_create_on_host(TILE_WIDTH * SIZE, TILE_WIDTH * SIZE);\n",
        "  fmatrix_init(C, 0.0);\n",
        "\n",
        "  /* Allocate data on device */\n",
        "  fmatrix d_A = fmatrix_create_on_device(TILE_WIDTH * SIZE, TILE_WIDTH * SIZE);\n",
        "  fmatrix d_B = fmatrix_create_on_device(TILE_WIDTH * SIZE, TILE_WIDTH * SIZE);\n",
        "  fmatrix d_C = fmatrix_create_on_device(TILE_WIDTH * SIZE, TILE_WIDTH * SIZE);\n",
        "\n",
        "  /* Transfer A and B on device */\n",
        "  fmatrix_data_to_device(A, d_A);\n",
        "  fmatrix_data_to_device(B, d_B);\n",
        "  fmatrix_data_to_device(C, d_C);\n",
        "\n",
        "  clock_t start, end;\n",
        "  float cpu_time_used;\n",
        "\n",
        "  /* Start calculation \"cpu\", \"gpu_basic\", \"gpu_tiled\", \"gpu_cublas\" */\n",
        "  /************** \"cpu\" *******************/\n",
        "  start = clock();\n",
        "  mat_mul(A, B, C, \"cpu\");\n",
        "  end = clock();\n",
        "  cpu_time_used = ((double) (end - start)) * 1000 / CLOCKS_PER_SEC;\n",
        "  printf(\"Time taken by CPU in milliseconds: %.2f\\n\", cpu_time_used);\n",
        "\n",
        "\n",
        "  /* Result correctness */\n",
        "  {\n",
        "    float maxError = 0.0f;\n",
        "    for (int i = 0; i < TILE_WIDTH * SIZE; i++){\n",
        "      for (int j = 0; j < TILE_WIDTH * SIZE; j++){\n",
        "        maxError = max(maxError, abs(getfm(C,i,j)- 2*TILE_WIDTH * SIZE));\n",
        "      }\n",
        "    }\n",
        "    printf(\"Max error: %f\\n\", maxError);\n",
        "  }\n",
        "  fmatrix_init(C, 0.0);\n",
        "\n",
        "  /************** \"gpu_basic\" *******************/\n",
        "  start = clock();\n",
        "  mat_mul(d_A, d_B, d_C, \"gpu_basic\");\n",
        "  end = clock();\n",
        "  cpu_time_used = ((double) (end - start)) * 1000 / CLOCKS_PER_SEC;\n",
        "  printf(\"GPU basic matrix multiplication in milliseconcs : %.2f\\n\", cpu_time_used);\n",
        "\n",
        "  /* Retrieve the result */\n",
        "  fmatrix_data_to_host(C, d_C);\n",
        "  /* Result correctness */\n",
        "  {\n",
        "    float maxError = 0.0f;\n",
        "    for (int i = 0; i < TILE_WIDTH * SIZE; i++){\n",
        "      for (int j = 0; j < TILE_WIDTH * SIZE; j++){\n",
        "        maxError = max(maxError, abs(getfm(C,i,j)- 2*TILE_WIDTH * SIZE));\n",
        "      }\n",
        "    }\n",
        "    printf(\"Max error: %f\\n\", maxError);\n",
        "  }\n",
        "  fmatrix_init(C, 0.0);\n",
        "  fmatrix_data_to_device(C, d_C);\n",
        "\n",
        "\n",
        " /************** \"gpu_tiled\" *******************/\n",
        "  start = clock();\n",
        "  mat_mul(d_A, d_B, d_C, \"gpu_tiled\");\n",
        "  end = clock();\n",
        "  cpu_time_used = ((double) (end - start)) * 1000 / CLOCKS_PER_SEC;\n",
        "  printf(\"GPU tiled matrix multiplication in milliseconcs : %.2f\\n\", cpu_time_used);\n",
        "\n",
        "  /* Retrieve the result */\n",
        "  fmatrix_data_to_host(C, d_C);\n",
        "  /* Result correctness */\n",
        "  {\n",
        "    float maxError = 0.0f;\n",
        "    for (int i = 0; i < TILE_WIDTH * SIZE; i++){\n",
        "      for (int j = 0; j < TILE_WIDTH * SIZE; j++){\n",
        "        maxError = max(maxError, abs(getfm(C,i,j)- 2*TILE_WIDTH * SIZE));\n",
        "      }\n",
        "    }\n",
        "    printf(\"Max error: %f\\n\", maxError);\n",
        "  }\n",
        "  fmatrix_init(C, 0.0);\n",
        "  fmatrix_data_to_device(C, d_C);\n",
        "\n",
        "\n",
        "  /************** \"gpu_cublas\" *******************/\n",
        "  for(int warmup = 0; warmup < 5; warmup++){\n",
        "    mat_mul(d_A, d_B, d_C, \"gpu_cublas\");\n",
        "  }\n",
        "  fmatrix_init(C, 0.0);\n",
        "  fmatrix_data_to_device(C, d_C);\n",
        "\n",
        "  start = clock();\n",
        "  mat_mul(d_A, d_B, d_C, \"gpu_cublas\");\n",
        "  end = clock();\n",
        "  cpu_time_used = ((double) (end - start)) * 1000 / CLOCKS_PER_SEC;\n",
        "  printf(\"GPU cuBLAS matrix multiplication in milliseconcs : %.2f\\n\", cpu_time_used);\n",
        "\n",
        "  /* Retrieve the result */\n",
        "  fmatrix_data_to_host(C, d_C);\n",
        "  /* Result correctness */\n",
        "  {\n",
        "    float maxError = 0.0f;\n",
        "    for (int i = 0; i < TILE_WIDTH * SIZE; i++){\n",
        "      for (int j = 0; j < TILE_WIDTH * SIZE; j++){\n",
        "        maxError = max(maxError, abs(getfm(C,i,j)- 2*TILE_WIDTH * SIZE));\n",
        "      }\n",
        "    }\n",
        "    printf(\"Max error: %f\\n\", maxError);\n",
        "  }\n",
        "  fmatrix_init(C, 0.0);\n",
        "  fmatrix_data_to_device(C, d_C);\n",
        "\n",
        "  /* Free */\n",
        "  fmatrix_free_on_host(&A);\n",
        "  fmatrix_free_on_host(&B);\n",
        "  fmatrix_free_on_host(&C);\n",
        "  fmatrix_free_on_device(&d_A);\n",
        "  fmatrix_free_on_device(&d_B);\n",
        "  fmatrix_free_on_device(&d_C);\n",
        "}"
      ],
      "execution_count": null,
      "outputs": []
    },
    {
      "cell_type": "markdown",
      "metadata": {
        "id": "HrATC8s9LsDw"
      },
      "source": [
        "# Compiling"
      ]
    },
    {
      "cell_type": "code",
      "metadata": {
        "id": "Z52xd0NMRKXb"
      },
      "source": [
        "# !nvcc -arch=sm_37 -gencode=arch=compute_37,code=sm_37 -Wno-deprecated-gpu-targets -lcublas sgemm.cu  fmatrix.cu  cuda_stuff.cu main.cu\n",
        "!nvcc -Wno-deprecated-gpu-targets -lcublas sgemm.cu  fmatrix.cu  cuda_stuff.cu main.cu"
      ],
      "execution_count": null,
      "outputs": []
    },
    {
      "cell_type": "markdown",
      "metadata": {
        "id": "SZVqTfXcLvPr"
      },
      "source": [
        "# Experiments"
      ]
    },
    {
      "cell_type": "code",
      "metadata": {
        "id": "B_D8hNmXwi0S"
      },
      "source": [
        "! ./a.out"
      ],
      "execution_count": null,
      "outputs": []
    },
    {
      "cell_type": "markdown",
      "metadata": {
        "id": "17aUKkNJqTDZ"
      },
      "source": [
        "# Debugging\n",
        "Compile with debugging info on the host (`-g`) and device (`-G`).\n"
      ]
    },
    {
      "cell_type": "code",
      "metadata": {
        "id": "EcfLGo1UrMq9"
      },
      "source": [
        "!nvcc -g -G -I /usr/local/cuda/samples/common/inc/ -L/usr/local/cuda/include -lcublas -lcusolver linear_classification.cu sgemm.cu read_csv.cu preprocess_data.cu xavier_weight.cu fmatrix.cu proba_calcul.cu cuda_stuff.cu"
      ],
      "execution_count": null,
      "outputs": []
    },
    {
      "cell_type": "markdown",
      "metadata": {
        "id": "FkuaGO10rRm9"
      },
      "source": [
        "Run the debugger cuda-gdb, stopping at the first error that is detected. Shows first the call stack on the GPU, the values of local variables, then the call stack on the host (thread 1)."
      ]
    },
    {
      "cell_type": "code",
      "metadata": {
        "colab": {
          "base_uri": "https://localhost:8080/"
        },
        "id": "vZ8nAtzGTRgH",
        "outputId": "5d6aebb0-c334-442a-ec5b-086924a80c79"
      },
      "source": [
        "! printf \"set cuda memcheck on\\nset cuda api_failures stop\\ncatch throw\\nr UNIT\\nbt\\ninfo locals\\nthread 1\\nbt\\n\" > tmp.txt\n",
        "! cat tmp.txt\n",
        "! cuda-gdb -batch -x tmp.txt ./a.out"
      ],
      "execution_count": null,
      "outputs": [
        {
          "output_type": "stream",
          "text": [
            "set cuda memcheck on\n",
            "set cuda api_failures stop\n",
            "catch throw\n",
            "r UNIT\n",
            "bt\n",
            "info locals\n",
            "thread 1\n",
            "bt\n",
            "Catchpoint 1 (throw)\n",
            "warning: Error disabling address space randomization: Operation not permitted\n",
            "[tcsetpgrp failed in terminal_inferior: Inappropriate ioctl for device]\n",
            "[tcsetpgrp failed in terminal_inferior: Inappropriate ioctl for device]\n",
            "[Thread debugging using libthread_db enabled]\n",
            "Using host libthread_db library \"/lib/x86_64-linux-gnu/libthread_db.so.1\".\n",
            "[tcsetpgrp failed in terminal_inferior: Inappropriate ioctl for device]\n",
            "headers: \"longitude\",\"latitude\",\"housing_median_age\",\"total_rooms\",\"total_bedrooms\",\"population\",\"households\",\"median_income\",\"median_house_value\"!\n",
            "Read 17000 rows.\n",
            "Allocated memory: 17000 rows, 9 columns.\n",
            "Inputs (first 10):\n",
            "1\t1\t1\t1\t1\t1\t1\t1\t1\t1\t\n",
            "-114.31\t-114.47\t-114.56\t-114.57\t-114.57\t-114.58\t-114.58\t-114.59\t-114.59\t-114.6\t\n",
            "34.19\t34.4\t33.69\t33.64\t33.57\t33.63\t33.61\t34.83\t33.61\t34.83\t\n",
            "15\t19\t17\t14\t20\t29\t25\t41\t34\t46\t\n",
            "5612\t7650\t720\t1501\t1454\t1387\t2907\t812\t4789\t1497\t\n",
            "1283\t1901\t174\t337\t326\t236\t680\t168\t1175\t309\t\n",
            "1015\t1129\t333\t515\t624\t671\t1841\t375\t3134\t787\t\n",
            "472\t463\t117\t226\t262\t239\t633\t158\t1056\t271\t\n",
            "1.4936\t1.82\t1.6509\t3.1917\t1.925\t3.3438\t2.6768\t1.7083\t2.1782\t2.1908\t\n",
            "Labels (first 10):\n",
            "0\t1\t\n",
            "0\t1\t\n",
            "0\t1\t\n",
            "0\t1\t\n",
            "0\t1\t\n",
            "0\t1\t\n",
            "0\t1\t\n",
            "0\t1\t\n",
            "0\t1\t\n",
            "0\t1\t\n",
            "[tcsetpgrp failed in terminal_inferior: Inappropriate ioctl for device]\n",
            "[New Thread 0x7fe66a890700 (LWP 979)]\n",
            "[New Thread 0x7fe66a08f700 (LWP 980)]\n",
            "[tcsetpgrp failed in terminal_inferior: Inappropriate ioctl for device]\n"
          ],
          "name": "stdout"
        }
      ]
    },
    {
      "cell_type": "code",
      "metadata": {
        "id": "VGJ6uVNBVHUs"
      },
      "source": [
        "!cuda-memcheck ./a.out \"UNIT\""
      ],
      "execution_count": null,
      "outputs": []
    }
  ]
}