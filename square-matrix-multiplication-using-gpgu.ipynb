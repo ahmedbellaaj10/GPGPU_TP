{
 "cells": [
  {
   "cell_type": "code",
   "execution_count": 1,
   "id": "c06705ca",
   "metadata": {
    "execution": {
     "iopub.execute_input": "2023-05-20T16:34:14.469918Z",
     "iopub.status.busy": "2023-05-20T16:34:14.468947Z",
     "iopub.status.idle": "2023-05-20T16:34:14.482585Z",
     "shell.execute_reply": "2023-05-20T16:34:14.481272Z"
    },
    "papermill": {
     "duration": 0.027086,
     "end_time": "2023-05-20T16:34:14.484527",
     "exception": false,
     "start_time": "2023-05-20T16:34:14.457441",
     "status": "completed"
    },
    "tags": []
   },
   "outputs": [
    {
     "name": "stdout",
     "output_type": "stream",
     "text": [
      "/kaggle/working\n"
     ]
    }
   ],
   "source": [
    "%cd \"/kaggle/working\""
   ]
  },
  {
   "cell_type": "code",
   "execution_count": 2,
   "id": "81a5fd18",
   "metadata": {
    "execution": {
     "iopub.execute_input": "2023-05-20T16:34:14.501545Z",
     "iopub.status.busy": "2023-05-20T16:34:14.501251Z",
     "iopub.status.idle": "2023-05-20T16:34:14.506174Z",
     "shell.execute_reply": "2023-05-20T16:34:14.505366Z"
    },
    "papermill": {
     "duration": 0.015539,
     "end_time": "2023-05-20T16:34:14.508045",
     "exception": false,
     "start_time": "2023-05-20T16:34:14.492506",
     "status": "completed"
    },
    "tags": []
   },
   "outputs": [],
   "source": [
    "# !sudo apt-get update"
   ]
  },
  {
   "cell_type": "code",
   "execution_count": 3,
   "id": "3b121db3",
   "metadata": {
    "execution": {
     "iopub.execute_input": "2023-05-20T16:34:14.525035Z",
     "iopub.status.busy": "2023-05-20T16:34:14.524222Z",
     "iopub.status.idle": "2023-05-20T16:34:14.528289Z",
     "shell.execute_reply": "2023-05-20T16:34:14.527492Z"
    },
    "papermill": {
     "duration": 0.014529,
     "end_time": "2023-05-20T16:34:14.530303",
     "exception": false,
     "start_time": "2023-05-20T16:34:14.515774",
     "status": "completed"
    },
    "tags": []
   },
   "outputs": [],
   "source": [
    "# !echo 'debconf debconf/frontend select Noninteractive' | sudo debconf-set-selections\n",
    "# !sudo apt-get install -y -q cuda"
   ]
  },
  {
   "cell_type": "markdown",
   "id": "6ed5e5fb",
   "metadata": {
    "id": "iwd38XvZK2sy",
    "papermill": {
     "duration": 0.007462,
     "end_time": "2023-05-20T16:34:14.545820",
     "exception": false,
     "start_time": "2023-05-20T16:34:14.538358",
     "status": "completed"
    },
    "tags": []
   },
   "source": [
    "# Installation"
   ]
  },
  {
   "cell_type": "code",
   "execution_count": 4,
   "id": "87ef6ef0",
   "metadata": {
    "execution": {
     "iopub.execute_input": "2023-05-20T16:34:14.562159Z",
     "iopub.status.busy": "2023-05-20T16:34:14.561910Z",
     "iopub.status.idle": "2023-05-20T16:34:15.503962Z",
     "shell.execute_reply": "2023-05-20T16:34:15.502714Z"
    },
    "executionInfo": {
     "elapsed": 8,
     "status": "ok",
     "timestamp": 1684586182052,
     "user": {
      "displayName": "Ange VALLI",
      "userId": "07174695979630093145"
     },
     "user_tz": -120
    },
    "id": "Q6ewR7_sHJ00",
    "outputId": "e82d8421-7047-4758-8f7b-9b9e7ee619ea",
    "papermill": {
     "duration": 0.952683,
     "end_time": "2023-05-20T16:34:15.506229",
     "exception": false,
     "start_time": "2023-05-20T16:34:14.553546",
     "status": "completed"
    },
    "tags": []
   },
   "outputs": [
    {
     "name": "stdout",
     "output_type": "stream",
     "text": [
      "nvcc: NVIDIA (R) Cuda compiler driver\r\n",
      "Copyright (c) 2005-2021 NVIDIA Corporation\r\n",
      "Built on Mon_May__3_19:15:13_PDT_2021\r\n",
      "Cuda compilation tools, release 11.3, V11.3.109\r\n",
      "Build cuda_11.3.r11.3/compiler.29920130_0\r\n"
     ]
    }
   ],
   "source": [
    "!/usr/local/cuda/bin/nvcc --version"
   ]
  },
  {
   "cell_type": "code",
   "execution_count": 5,
   "id": "4f95842f",
   "metadata": {
    "execution": {
     "iopub.execute_input": "2023-05-20T16:34:15.525628Z",
     "iopub.status.busy": "2023-05-20T16:34:15.524010Z",
     "iopub.status.idle": "2023-05-20T16:34:30.526531Z",
     "shell.execute_reply": "2023-05-20T16:34:30.525390Z"
    },
    "executionInfo": {
     "elapsed": 6334,
     "status": "ok",
     "timestamp": 1684586471501,
     "user": {
      "displayName": "Ange VALLI",
      "userId": "07174695979630093145"
     },
     "user_tz": -120
    },
    "id": "Kn2s4LVCHL0J",
    "outputId": "a8d76f3b-bf48-41e4-80ef-146f6055e88e",
    "papermill": {
     "duration": 15.014714,
     "end_time": "2023-05-20T16:34:30.529215",
     "exception": false,
     "start_time": "2023-05-20T16:34:15.514501",
     "status": "completed"
    },
    "tags": []
   },
   "outputs": [
    {
     "name": "stdout",
     "output_type": "stream",
     "text": [
      "Collecting git+https://github.com/frehseg/nvcc4jupyter.git\r\n",
      "  Cloning https://github.com/frehseg/nvcc4jupyter.git to /tmp/pip-req-build-v2ke3p0f\r\n",
      "  Running command git clone --filter=blob:none --quiet https://github.com/frehseg/nvcc4jupyter.git /tmp/pip-req-build-v2ke3p0f\r\n",
      "  Resolved https://github.com/frehseg/nvcc4jupyter.git to commit a599751b98cbb8537fe9609198030b55669535da\r\n",
      "  Preparing metadata (setup.py) ... \u001b[?25l-\b \b\\\b \bdone\r\n",
      "\u001b[?25hBuilding wheels for collected packages: NVCCPlugin\r\n",
      "  Building wheel for NVCCPlugin (setup.py) ... \u001b[?25l-\b \b\\\b \bdone\r\n",
      "\u001b[?25h  Created wheel for NVCCPlugin: filename=NVCCPlugin-0.2-py3-none-any.whl size=2207 sha256=307650e68eab7242c3e4b330a0e063ccddc5adf98dbd9899354beabfc1e3c72d\r\n",
      "  Stored in directory: /tmp/pip-ephem-wheel-cache-au_vpypi/wheels/4c/02/de/02070cb0bea5e90c8e1412113a24c8967f93b63f8806e2b398\r\n",
      "Successfully built NVCCPlugin\r\n",
      "Installing collected packages: NVCCPlugin\r\n",
      "Successfully installed NVCCPlugin-0.2\r\n",
      "\u001b[33mWARNING: Running pip as the 'root' user can result in broken permissions and conflicting behaviour with the system package manager. It is recommended to use a virtual environment instead: https://pip.pypa.io/warnings/venv\u001b[0m\u001b[33m\r\n",
      "\u001b[0m"
     ]
    }
   ],
   "source": [
    "!pip install --upgrade git+https://github.com/frehseg/nvcc4jupyter.git"
   ]
  },
  {
   "cell_type": "code",
   "execution_count": 6,
   "id": "f25854a4",
   "metadata": {
    "execution": {
     "iopub.execute_input": "2023-05-20T16:34:30.548788Z",
     "iopub.status.busy": "2023-05-20T16:34:30.548464Z",
     "iopub.status.idle": "2023-05-20T16:34:30.558959Z",
     "shell.execute_reply": "2023-05-20T16:34:30.558126Z"
    },
    "id": "PoKiUawdHMGn",
    "papermill": {
     "duration": 0.022454,
     "end_time": "2023-05-20T16:34:30.560888",
     "exception": false,
     "start_time": "2023-05-20T16:34:30.538434",
     "status": "completed"
    },
    "tags": []
   },
   "outputs": [],
   "source": [
    "%load_ext nvcc_plugin"
   ]
  },
  {
   "cell_type": "code",
   "execution_count": 7,
   "id": "bcb7a596",
   "metadata": {
    "execution": {
     "iopub.execute_input": "2023-05-20T16:34:30.579619Z",
     "iopub.status.busy": "2023-05-20T16:34:30.579056Z",
     "iopub.status.idle": "2023-05-20T16:34:30.586574Z",
     "shell.execute_reply": "2023-05-20T16:34:30.585572Z"
    },
    "executionInfo": {
     "elapsed": 170,
     "status": "ok",
     "timestamp": 1684586475686,
     "user": {
      "displayName": "Ange VALLI",
      "userId": "07174695979630093145"
     },
     "user_tz": -120
    },
    "id": "pM903nhRJ6zm",
    "outputId": "59e9e86d-f468-48d8-bcc0-252e11413d9e",
    "papermill": {
     "duration": 0.019281,
     "end_time": "2023-05-20T16:34:30.588864",
     "exception": false,
     "start_time": "2023-05-20T16:34:30.569583",
     "status": "completed"
    },
    "tags": []
   },
   "outputs": [
    {
     "data": {
      "text/plain": [
       "['/opt/bin:/opt/conda/bin:/usr/local/nvidia/bin:/usr/local/cuda/bin:/usr/local/sbin:/usr/local/bin:/usr/sbin:/usr/bin:/sbin:/bin']"
      ]
     },
     "execution_count": 7,
     "metadata": {},
     "output_type": "execute_result"
    }
   ],
   "source": [
    "import os\n",
    "os.environ['PATH'].split(';')"
   ]
  },
  {
   "cell_type": "markdown",
   "id": "b51c109f",
   "metadata": {
    "id": "cweMlOB0L4mG",
    "papermill": {
     "duration": 0.008498,
     "end_time": "2023-05-20T16:34:30.606064",
     "exception": false,
     "start_time": "2023-05-20T16:34:30.597566",
     "status": "completed"
    },
    "tags": []
   },
   "source": [
    "# Code"
   ]
  },
  {
   "cell_type": "markdown",
   "id": "677412b1",
   "metadata": {
    "id": "Po-TEvrWMJ_a",
    "papermill": {
     "duration": 0.008627,
     "end_time": "2023-05-20T16:34:30.623446",
     "exception": false,
     "start_time": "2023-05-20T16:34:30.614819",
     "status": "completed"
    },
    "tags": []
   },
   "source": [
    "## CUDA Utilities"
   ]
  },
  {
   "cell_type": "code",
   "execution_count": 8,
   "id": "96797410",
   "metadata": {
    "execution": {
     "iopub.execute_input": "2023-05-20T16:34:30.644636Z",
     "iopub.status.busy": "2023-05-20T16:34:30.643836Z",
     "iopub.status.idle": "2023-05-20T16:34:30.657230Z",
     "shell.execute_reply": "2023-05-20T16:34:30.655676Z"
    },
    "executionInfo": {
     "elapsed": 194,
     "status": "ok",
     "timestamp": 1684586479244,
     "user": {
      "displayName": "Ange VALLI",
      "userId": "07174695979630093145"
     },
     "user_tz": -120
    },
    "id": "c-lgwhE1N5_7",
    "outputId": "68d93eed-af0e-4737-ff4b-852b0c50a5a5",
    "papermill": {
     "duration": 0.027944,
     "end_time": "2023-05-20T16:34:30.660076",
     "exception": false,
     "start_time": "2023-05-20T16:34:30.632132",
     "status": "completed"
    },
    "tags": []
   },
   "outputs": [
    {
     "name": "stdout",
     "output_type": "stream",
     "text": [
      "Writing cuda_stuff.cuh\n"
     ]
    }
   ],
   "source": [
    "%%writefile cuda_stuff.cuh\n",
    "#ifndef cuda_stuff_H\n",
    "#define cuda_stuff_H\n",
    "\n",
    "#include <stdio.h>\n",
    "#include <stdlib.h>\n",
    "#include <cuda.h>\n",
    "#include <cuda_runtime.h>\n",
    "\n",
    "//MACRO TO DEBUG CUDA FUNCTIONS\n",
    "/** Error checking,\n",
    " *  taken from https://stackoverflow.com/questions/14038589/what-is-the-canonical-way-to-check-for-errors-using-the-cuda-runtime-api\n",
    " */\n",
    "#define gpuErrchk(ans) { gpuAssert((ans), __FILE__, __LINE__); }\n",
    "inline void gpuAssert(cudaError_t code, const char *file, int line, bool abort=true)\n",
    "{\n",
    "   if (code != cudaSuccess) \n",
    "   {\n",
    "      fprintf(stderr,\"GPUassert: %s %s %d\\n\", cudaGetErrorString(code), file, line);\n",
    "      if (abort) exit(code);\n",
    "   }\n",
    "}\n",
    "\n",
    "void device_synchronize();\n",
    "\n",
    "#endif\n"
   ]
  },
  {
   "cell_type": "code",
   "execution_count": 9,
   "id": "8ebe7084",
   "metadata": {
    "execution": {
     "iopub.execute_input": "2023-05-20T16:34:30.679100Z",
     "iopub.status.busy": "2023-05-20T16:34:30.678372Z",
     "iopub.status.idle": "2023-05-20T16:34:30.684170Z",
     "shell.execute_reply": "2023-05-20T16:34:30.683047Z"
    },
    "executionInfo": {
     "elapsed": 181,
     "status": "ok",
     "timestamp": 1684586482609,
     "user": {
      "displayName": "Ange VALLI",
      "userId": "07174695979630093145"
     },
     "user_tz": -120
    },
    "id": "iivrxLaYOYPh",
    "outputId": "934cbad4-ec36-4b4e-8fcf-4249dfca6d38",
    "papermill": {
     "duration": 0.017368,
     "end_time": "2023-05-20T16:34:30.686192",
     "exception": false,
     "start_time": "2023-05-20T16:34:30.668824",
     "status": "completed"
    },
    "tags": []
   },
   "outputs": [
    {
     "name": "stdout",
     "output_type": "stream",
     "text": [
      "Writing cuda_stuff.cu\n"
     ]
    }
   ],
   "source": [
    "%%writefile cuda_stuff.cu\n",
    "#include <stdio.h>\n",
    "#include <stdlib.h>\n",
    "#include <cuda.h>\n",
    "#include <cuda_runtime.h>\n",
    "\n",
    "#include \"cuda_stuff.cuh\"\n",
    "\n",
    "void device_synchronize(){\n",
    "    gpuErrchk(cudaDeviceSynchronize());\n",
    "}"
   ]
  },
  {
   "cell_type": "markdown",
   "id": "21d50e6e",
   "metadata": {
    "id": "0fsEMpauK8lW",
    "papermill": {
     "duration": 0.008602,
     "end_time": "2023-05-20T16:34:30.703580",
     "exception": false,
     "start_time": "2023-05-20T16:34:30.694978",
     "status": "completed"
    },
    "tags": []
   },
   "source": [
    "## Matrix Tools"
   ]
  },
  {
   "cell_type": "code",
   "execution_count": 10,
   "id": "8ef2d635",
   "metadata": {
    "execution": {
     "iopub.execute_input": "2023-05-20T16:34:30.722504Z",
     "iopub.status.busy": "2023-05-20T16:34:30.721969Z",
     "iopub.status.idle": "2023-05-20T16:34:30.728296Z",
     "shell.execute_reply": "2023-05-20T16:34:30.727266Z"
    },
    "executionInfo": {
     "elapsed": 194,
     "status": "ok",
     "timestamp": 1684586484454,
     "user": {
      "displayName": "Ange VALLI",
      "userId": "07174695979630093145"
     },
     "user_tz": -120
    },
    "id": "A97U902HMog4",
    "outputId": "f72b4cca-d99a-46d5-b3ba-ddc84f849509",
    "papermill": {
     "duration": 0.017993,
     "end_time": "2023-05-20T16:34:30.730242",
     "exception": false,
     "start_time": "2023-05-20T16:34:30.712249",
     "status": "completed"
    },
    "tags": []
   },
   "outputs": [
    {
     "name": "stdout",
     "output_type": "stream",
     "text": [
      "Writing fmatrix.cuh\n"
     ]
    }
   ],
   "source": [
    "%%writefile fmatrix.cuh\n",
    "#ifndef fmatrices_H\n",
    "#define fmatrices_H\n",
    "#include <stddef.h> \n",
    "\n",
    "typedef struct {\n",
    "    float* data;\n",
    "    size_t cols;\n",
    "    size_t rows;\n",
    "} fmatrix;\n",
    "\n",
    "/* transform matrix index to vector offset\n",
    "   Since CUDA uses column major, \n",
    "   nb_rows = number of rows */\n",
    "#define IDX2C(i,j,nb_rows) (((j)*(nb_rows))+(i))\n",
    "\n",
    "/* Access element (i,j) of matrix mat */\n",
    "#define getfm(mat,i,j) (mat.data[IDX2C(i,j,mat.rows)])\n",
    "\n",
    "\n",
    "size_t fmatrix_elements(fmatrix mat);\n",
    "size_t fmatrix_size(fmatrix mat);\n",
    "void fmatrix_init(fmatrix mat, float f);\n",
    "/** Assert that the matrix is coherent: all fields nonzero. */\n",
    "void fmatrix_assert();\n",
    "\n",
    "fmatrix fmatrix_create_on_host(size_t rows, size_t cols);\n",
    "fmatrix fmatrix_create_on_device(size_t rows, size_t cols);\n",
    "\n",
    "void fmatrix_data_to_host(fmatrix mat_host, fmatrix mat_device);\n",
    "void fmatrix_data_to_device(fmatrix mat_host, fmatrix mat_device);\n",
    "\n",
    "void fmatrix_free_on_host(fmatrix* mat);\n",
    "void fmatrix_free_on_device(fmatrix* mat);\n",
    "\n",
    "/** Print the first nb rows of the matrix mat\n",
    " *  on the host. \n",
    " *  If nb<0, print all rows. \n",
    " */\n",
    "void fmatrix_host_print(fmatrix mat, int nb=-1);\n",
    "\n",
    "/** Print the first nb rows of the matrix mat\n",
    " *  on the device. \n",
    " *  If nb<0, print all rows. \n",
    " */\n",
    "void fmatrix_device_print(fmatrix mat, int nb=-1);\n",
    "\n",
    "#endif\n"
   ]
  },
  {
   "cell_type": "code",
   "execution_count": 11,
   "id": "ab7b4a46",
   "metadata": {
    "execution": {
     "iopub.execute_input": "2023-05-20T16:34:30.749794Z",
     "iopub.status.busy": "2023-05-20T16:34:30.749500Z",
     "iopub.status.idle": "2023-05-20T16:34:30.756722Z",
     "shell.execute_reply": "2023-05-20T16:34:30.755644Z"
    },
    "executionInfo": {
     "elapsed": 291,
     "status": "ok",
     "timestamp": 1684586489315,
     "user": {
      "displayName": "Ange VALLI",
      "userId": "07174695979630093145"
     },
     "user_tz": -120
    },
    "id": "wGwZ36ifWQ-d",
    "outputId": "17b93cbd-dc07-4cce-dfb4-0f8c42ecb2f2",
    "papermill": {
     "duration": 0.019366,
     "end_time": "2023-05-20T16:34:30.758652",
     "exception": false,
     "start_time": "2023-05-20T16:34:30.739286",
     "status": "completed"
    },
    "tags": []
   },
   "outputs": [
    {
     "name": "stdout",
     "output_type": "stream",
     "text": [
      "Writing fmatrix.cu\n"
     ]
    }
   ],
   "source": [
    "%%writefile fmatrix.cu\n",
    "#include <assert.h>\n",
    "#include <stdio.h>\n",
    "#include <stdlib.h>\n",
    "#include <cuda.h>\n",
    "#include <cuda_runtime.h>\n",
    "\n",
    "#include \"cuda_stuff.cuh\"\n",
    "#include \"fmatrix.cuh\"\n",
    "\n",
    "size_t fmatrix_elements(fmatrix mat) {\n",
    "     return mat.cols*mat.rows;\n",
    "}\n",
    "\n",
    "size_t fmatrix_size(fmatrix mat) {\n",
    "     return fmatrix_elements(mat) * sizeof(mat.data[0]);\n",
    "}\n",
    "\n",
    "void fmatrix_init(fmatrix mat, float f) {\n",
    "    for (int i = 0; i < mat.rows; i++){\n",
    "        for (int j = 0; j < mat.cols; j++){\n",
    "            mat.data[IDX2C(i,j,mat.rows)] = f; \n",
    "    }\n",
    "  }\n",
    "} \n",
    "\n",
    "void fmatrix_assert(fmatrix mat) {\n",
    "    assert(mat.data);\n",
    "    assert(mat.cols);\n",
    "    assert(mat.rows);\n",
    "}\n",
    "\n",
    "\n",
    "\n",
    "fmatrix fmatrix_create_on_host(size_t rows, size_t cols) {\n",
    "    assert(cols>0);\n",
    "    assert(rows>0);\n",
    "    fmatrix mat;\n",
    "    mat.cols = cols;\n",
    "    mat.rows = rows;\n",
    "    mat.data = (float*)malloc(fmatrix_size(mat)); \n",
    "    assert(mat.data);\n",
    "    return mat;\n",
    "}\n",
    "\n",
    "fmatrix fmatrix_create_on_device(size_t rows, size_t cols) {\n",
    "    assert(cols>0);\n",
    "    assert(rows>0);\n",
    "    fmatrix mat;\n",
    "    mat.cols = cols;\n",
    "    mat.rows = rows;\n",
    "    gpuErrchk( \n",
    "        cudaMalloc((void **)&(mat.data), fmatrix_size(mat)) \n",
    "    );\n",
    "    return mat;\n",
    "}\n",
    "\n",
    "void fmatrix_data_to_device(fmatrix mat_host, fmatrix mat_device) {\n",
    "    fmatrix_assert(mat_host);\n",
    "    fmatrix_assert(mat_device);\n",
    "    assert(mat_host.cols==mat_device.cols);\n",
    "    assert(mat_host.rows==mat_device.rows);\n",
    "    gpuErrchk( \n",
    "        cudaMemcpy( mat_device.data, mat_host.data, \n",
    "                   fmatrix_size(mat_host), \n",
    "                   cudaMemcpyHostToDevice \n",
    "                   )\n",
    "        );\n",
    "}\n",
    "\n",
    "void fmatrix_data_to_host(fmatrix mat_host, fmatrix mat_device) {\n",
    "    fmatrix_assert(mat_host);\n",
    "    fmatrix_assert(mat_device);\n",
    "    assert(mat_host.cols==mat_device.cols);\n",
    "    assert(mat_host.rows==mat_device.rows);\n",
    "    gpuErrchk(\n",
    "        cudaMemcpy( mat_host.data, mat_device.data,  \n",
    "                   fmatrix_size(mat_device), \n",
    "                   cudaMemcpyDeviceToHost \n",
    "                   )\n",
    "        );\n",
    "}\n",
    "\n",
    "void fmatrix_free_on_host(fmatrix* mat) {\n",
    "    fmatrix_assert(*mat);  \n",
    "  free(mat->data);\n",
    "  mat->data = 0;\n",
    "  mat->cols = 0;\n",
    "  mat->rows = 0;\n",
    "}\n",
    "\n",
    "void fmatrix_free_on_device(fmatrix* mat) {\n",
    "    fmatrix_assert(*mat);  \n",
    "  gpuErrchk(cudaFree(mat->data));\n",
    "  mat->data = 0;\n",
    "  mat->cols = 0;\n",
    "  mat->rows = 0;\n",
    "}\n",
    "\n",
    "void fmatrix_host_print(fmatrix mat, int nb){\n",
    "    if (nb<0 || nb > mat.rows) {\n",
    "        nb = mat.rows;\n",
    "    }\n",
    "    printf(\"[\\n\");\n",
    "    for (int i = 0 ; i < nb; i++){\n",
    "      for (int j = 0 ; j<mat.cols; j++){\n",
    "        printf(\"%f\", getfm(mat,i,j));\n",
    "        if (j+1<mat.cols) {\n",
    "          printf(\",\\t\");\n",
    "        }\n",
    "      }\n",
    "      if (i+1<nb) {\n",
    "        printf(\";\\n\");\n",
    "      }\n",
    "    }\n",
    "    if (nb < mat.rows) {\n",
    "      printf(\"\\n...\\n\");\n",
    "    }\n",
    "  printf(\"\\n]\\n\");\n",
    "}\n",
    "\n",
    "void fmatrix_device_print(fmatrix mat, int nb){\n",
    "   // allocate copy\n",
    "   fmatrix tmp = fmatrix_create_on_host(mat.rows, mat.cols);\n",
    "   fmatrix_data_to_host(tmp, mat);\n",
    "   fmatrix_host_print(tmp,nb);\n",
    "   fmatrix_free_on_host(&tmp);\n",
    "}\n",
    "\n"
   ]
  },
  {
   "cell_type": "markdown",
   "id": "b19879ca",
   "metadata": {
    "id": "tM266RRGjwUH",
    "papermill": {
     "duration": 0.008948,
     "end_time": "2023-05-20T16:34:30.776530",
     "exception": false,
     "start_time": "2023-05-20T16:34:30.767582",
     "status": "completed"
    },
    "tags": []
   },
   "source": [
    "## Matrix Math"
   ]
  },
  {
   "cell_type": "code",
   "execution_count": 12,
   "id": "b5932ad5",
   "metadata": {
    "execution": {
     "iopub.execute_input": "2023-05-20T16:34:30.796259Z",
     "iopub.status.busy": "2023-05-20T16:34:30.795477Z",
     "iopub.status.idle": "2023-05-20T16:34:30.801369Z",
     "shell.execute_reply": "2023-05-20T16:34:30.800262Z"
    },
    "executionInfo": {
     "elapsed": 183,
     "status": "ok",
     "timestamp": 1684586492933,
     "user": {
      "displayName": "Ange VALLI",
      "userId": "07174695979630093145"
     },
     "user_tz": -120
    },
    "id": "iNjf6dkCfh9t",
    "outputId": "8b523938-2e1f-403e-b4fb-a4946f4335eb",
    "papermill": {
     "duration": 0.01782,
     "end_time": "2023-05-20T16:34:30.803205",
     "exception": false,
     "start_time": "2023-05-20T16:34:30.785385",
     "status": "completed"
    },
    "tags": []
   },
   "outputs": [
    {
     "name": "stdout",
     "output_type": "stream",
     "text": [
      "Writing sgemm.cuh\n"
     ]
    }
   ],
   "source": [
    "%%writefile sgemm.cuh\n",
    "#ifndef sgemm_H\n",
    "#define sgemm_H\n",
    "\n",
    "#include <string>\n",
    "#include \"fmatrix.cuh\"\n",
    "\n",
    "void mat_mul(fmatrix A, fmatrix B, fmatrix C, std::string arg);\n",
    "\n",
    "#endif"
   ]
  },
  {
   "cell_type": "code",
   "execution_count": 13,
   "id": "31f23f9d",
   "metadata": {
    "execution": {
     "iopub.execute_input": "2023-05-20T16:34:30.823168Z",
     "iopub.status.busy": "2023-05-20T16:34:30.822917Z",
     "iopub.status.idle": "2023-05-20T16:34:30.830313Z",
     "shell.execute_reply": "2023-05-20T16:34:30.829515Z"
    },
    "executionInfo": {
     "elapsed": 179,
     "status": "ok",
     "timestamp": 1684586494351,
     "user": {
      "displayName": "Ange VALLI",
      "userId": "07174695979630093145"
     },
     "user_tz": -120
    },
    "id": "iOBsNcM0foDD",
    "outputId": "4b98bc6b-748b-415b-cf7e-e79c064b504d",
    "papermill": {
     "duration": 0.019721,
     "end_time": "2023-05-20T16:34:30.832245",
     "exception": false,
     "start_time": "2023-05-20T16:34:30.812524",
     "status": "completed"
    },
    "tags": []
   },
   "outputs": [
    {
     "name": "stdout",
     "output_type": "stream",
     "text": [
      "Writing sgemm.cu\n"
     ]
    }
   ],
   "source": [
    "%%writefile sgemm.cu\n",
    "#include <stdio.h>\n",
    "#include <stdlib.h>\n",
    "#include <string>\n",
    "#include <time.h>\n",
    "#include <math.h>\n",
    "#include <cuda.h>\n",
    "#include <cuda_runtime.h>\n",
    "#include \"cublas_v2.h\"\n",
    "\n",
    "#include \"cuda_stuff.cuh\"\n",
    "#include \"sgemm.cuh\"\n",
    "#include \"fmatrix.cuh\"\n",
    "\n",
    "#define THREADS_PER_BLOCK 1024\n",
    "#define TILE_WIDTH 32\n",
    "\n",
    "using namespace std;\n",
    "\n",
    "/* basic matrix multiplication C = alpha*A*B + beta*C on host as reference for the speedup */\n",
    "void matrixMultiplication_basic_host(float alpha, fmatrix A, fmatrix B, float beta, fmatrix C) { \n",
    "  float tmp = 0;\n",
    "  for (int i = 0; i<A.rows; i++){\n",
    "    for (int j = 0; j<B.cols; j++){\n",
    "      for (int k = 0; k<A.cols; k++){\n",
    "        tmp += alpha * getfm(A,i, k) * getfm(B, k, j);\n",
    "      }\n",
    "      C.data[IDX2C(i,j,C.rows)] = beta * C.data[IDX2C(i,j,C.rows)] + tmp; \n",
    "      tmp = 0;\n",
    "    }\n",
    "  } \n",
    "}\n",
    "               \n",
    "/* 3 different versions of matrix multiplication C = alpha*A*B + beta*C on device */\n",
    "__global__\n",
    "void matmul_basic_kernel(float *A, float *B, float *C, int nb_ColA, int nb_ColB, int nb_LigneA, int nb_LigneB) {\n",
    " float tmp = 0;\n",
    " int row = blockIdx.x;\n",
    " int col = threadIdx.x;\n",
    "  for (int i = 0; i < nb_ColA; i++) {\n",
    "      tmp += A[i * nb_LigneA + row] * B[col * nb_LigneB + i];\n",
    " }\n",
    " C[col * nb_LigneA + row] = tmp;\n",
    "}\n",
    "void matrixMultiplication_basic(float alpha, fmatrix d_A, fmatrix d_B, float beta, fmatrix d_C) { \n",
    "  // declaration of dimGrid and dimBlock\n",
    "  int dimGrid=d_A.rows;\n",
    "  int dimBlock=d_A.rows;\n",
    "  \n",
    "  matmul_basic_kernel <<< dimGrid, dimBlock >>> (d_A.data, d_B.data, d_C.data, d_A.cols, d_B.cols, d_A.rows, d_B.rows);\n",
    "\n",
    "} \n",
    "\n",
    "/**********************/\n",
    "__global__\n",
    "void matmul_tiled_kernel(float *A, float *B, float *C, int nb_ColA, int nb_ColB, int nb_LigneA, int nb_LigneB){\n",
    "  const int tile_width=16;\n",
    "  int N=nb_LigneA/tile_width;\n",
    "  int i=threadIdx.x/tile_width;\n",
    "  int j=threadIdx.x-i*tile_width;\n",
    "  int row=blockIdx.x/N;\n",
    "  int col=blockIdx.x-row*N;\n",
    "  __shared__ int sharedA[tile_width*tile_width];\n",
    "  __shared__ int sharedB[tile_width*tile_width];\n",
    "  for (int n = 0; n < N; n++){\n",
    "      sharedB[j*tile_width+i]=B[(j+tile_width*col)*nb_LigneB+(i+tile_width*n)];\n",
    "      sharedA[j*tile_width+i]=A[(j+tile_width*n)*nb_LigneA+(i+tile_width*row)];\n",
    "      __syncthreads();\n",
    "      float tmp=0;\n",
    "      for (int k = 0; k < tile_width; k++){\n",
    "          tmp += sharedA[k*tile_width+i]*sharedB[j*tile_width+k];\n",
    "      }\n",
    "      C[(j+tile_width*col)*nb_LigneA+(i+tile_width*row)]=C[(j+tile_width*col)*nb_LigneA+(i+tile_width*row)]+tmp;\n",
    "  }\n",
    "}\n",
    "\n",
    "\n",
    "void matrixMultiplication_tiled(float alpha, fmatrix d_A, fmatrix d_B, float beta, fmatrix d_C){\n",
    "  // declaration of dimGrid and dimBlock\n",
    "  const int tile_width=16;\n",
    "  int N=d_A.rows/tile_width;\n",
    "  int dimGrid=N*N;\n",
    "  int dimBlock=tile_width*tile_width;\n",
    "  matmul_tiled_kernel <<< dimGrid, dimBlock >>> (d_A.data, d_B.data, d_C.data, d_A.cols, d_B.cols, d_A.rows, d_B.rows);\n",
    "}\n",
    "\n",
    "/**********************/\n",
    "void matrixMultiplication_cublas(float alpha, fmatrix d_A, fmatrix d_B, float beta, fmatrix d_C){\n",
    "  cublasHandle_t handle;\n",
    "  cublasCreate(&handle);\n",
    "  int m=d_A.rows;\n",
    "  int n=d_B.cols;\n",
    "  int k=d_A.cols;\n",
    "  cublasSgemm(handle, CUBLAS_OP_N, CUBLAS_OP_N, m, n, k, &alpha, d_A.data, m, d_B.data, k, &beta, d_C.data, m);\n",
    "  cublasDestroy(handle);\n",
    "}\n",
    "\n",
    "\n",
    "\n",
    "/*MAIN SGEMM*/\n",
    "void gen_mat_mul(float alpha, fmatrix A, fmatrix B, float beta, fmatrix C, std::string arg){\n",
    "    if (arg == \"cpu\"){\n",
    "        matrixMultiplication_basic_host(alpha, A, B, beta, C);\n",
    "    } else {\n",
    "      /* kernel function*/  \n",
    "      if (arg == \"gpu_basic\"){\n",
    "          matrixMultiplication_basic(alpha, A, B, beta, C);\n",
    "      \n",
    "      } else if (arg == \"gpu_tiled\"){\n",
    "          matrixMultiplication_tiled(alpha, A, B, beta, C);\n",
    "      \n",
    "      } else if (arg == \"gpu_cublas\"){\n",
    "         matrixMultiplication_cublas(alpha, A, B, beta, C);\n",
    "    \n",
    "      } else{\n",
    "          printf(\"Matrix Multiplication argument is Wrong\");\n",
    "          exit(0);\n",
    "      }\n",
    "      // wait for everything to finish\n",
    "      printf(\"Synchro\\n\");\n",
    "      device_synchronize();\n",
    "    }\n",
    "}\n",
    "\n",
    "void mat_mul(fmatrix A, fmatrix B, fmatrix C, std::string arg){\n",
    " gen_mat_mul(1.0, A, B, 0.1, C, arg);   \n",
    "}\n"
   ]
  },
  {
   "cell_type": "markdown",
   "id": "c81b71b7",
   "metadata": {
    "id": "cnpSu2wH2ooy",
    "papermill": {
     "duration": 0.008892,
     "end_time": "2023-05-20T16:34:30.850392",
     "exception": false,
     "start_time": "2023-05-20T16:34:30.841500",
     "status": "completed"
    },
    "tags": []
   },
   "source": [
    "# Main"
   ]
  },
  {
   "cell_type": "code",
   "execution_count": 14,
   "id": "968e1e7d",
   "metadata": {
    "execution": {
     "iopub.execute_input": "2023-05-20T16:34:30.870054Z",
     "iopub.status.busy": "2023-05-20T16:34:30.869799Z",
     "iopub.status.idle": "2023-05-20T16:34:30.877166Z",
     "shell.execute_reply": "2023-05-20T16:34:30.876241Z"
    },
    "executionInfo": {
     "elapsed": 165,
     "status": "ok",
     "timestamp": 1684586499656,
     "user": {
      "displayName": "Ange VALLI",
      "userId": "07174695979630093145"
     },
     "user_tz": -120
    },
    "id": "kWEplkuA2Ygf",
    "outputId": "a5d5479e-9102-4a49-f9a7-92d48b00113b",
    "papermill": {
     "duration": 0.019466,
     "end_time": "2023-05-20T16:34:30.879100",
     "exception": false,
     "start_time": "2023-05-20T16:34:30.859634",
     "status": "completed"
    },
    "tags": []
   },
   "outputs": [
    {
     "name": "stdout",
     "output_type": "stream",
     "text": [
      "Writing main.cu\n"
     ]
    }
   ],
   "source": [
    "%%writefile main.cu\n",
    "\n",
    "#include <stdio.h>\n",
    "#include <stdlib.h>\n",
    "#include \"fmatrix.cuh\"\n",
    "#include \"sgemm.cuh\"\n",
    "\n",
    "#define TILE_WIDTH 32\n",
    "#define SIZE 20\n",
    "\n",
    "int main(void)\n",
    "{\n",
    "  /* Allocate and initialize data on host */\n",
    "  fmatrix A = fmatrix_create_on_host(TILE_WIDTH * SIZE, TILE_WIDTH * SIZE);\n",
    "  fmatrix_init(A, 1.0);    \n",
    "  fmatrix B = fmatrix_create_on_host(TILE_WIDTH * SIZE, TILE_WIDTH * SIZE);\n",
    "  fmatrix_init(B, 2.0);\n",
    "  fmatrix C = fmatrix_create_on_host(TILE_WIDTH * SIZE, TILE_WIDTH * SIZE);\n",
    "  fmatrix_init(C, 0.0);\n",
    "\n",
    "  /* Allocate data on device */\n",
    "  fmatrix d_A = fmatrix_create_on_device(TILE_WIDTH * SIZE, TILE_WIDTH * SIZE);\n",
    "  fmatrix d_B = fmatrix_create_on_device(TILE_WIDTH * SIZE, TILE_WIDTH * SIZE);\n",
    "  fmatrix d_C = fmatrix_create_on_device(TILE_WIDTH * SIZE, TILE_WIDTH * SIZE);\n",
    "  \n",
    "  /* Transfer A and B on device */\n",
    "  fmatrix_data_to_device(A, d_A);\n",
    "  fmatrix_data_to_device(B, d_B); \n",
    "  fmatrix_data_to_device(C, d_C);\n",
    "\n",
    "  clock_t start, end;\n",
    "  float cpu_time_used;   \n",
    "\n",
    "  /* Start calculation \"cpu\", \"gpu_basic\", \"gpu_tiled\", \"gpu_cublas\" */ \n",
    "  /************** \"cpu\" *******************/\n",
    "  start = clock();\n",
    "  mat_mul(A, B, C, \"cpu\");\n",
    "  end = clock();\n",
    "  cpu_time_used = ((double) (end - start)) * 1000 / CLOCKS_PER_SEC;\n",
    "  printf(\"Time taken by CPU in milliseconds: %.2f\\n\", cpu_time_used);\n",
    " \n",
    "  \n",
    "  /* Result correctness */\n",
    "  {\n",
    "    float maxError = 0.0f;\n",
    "    for (int i = 0; i < TILE_WIDTH * SIZE; i++){\n",
    "      for (int j = 0; j < TILE_WIDTH * SIZE; j++){\n",
    "        maxError = max(maxError, abs(getfm(C,i,j)- 2*TILE_WIDTH * SIZE));\n",
    "      }\n",
    "    } \n",
    "    printf(\"Max error: %f\\n\", maxError);\n",
    "  }\n",
    "  fmatrix_init(C, 0.0); \n",
    "\n",
    "  /************** \"gpu_basic\" *******************/\n",
    "  start = clock();\n",
    "  mat_mul(d_A, d_B, d_C, \"gpu_basic\");\n",
    "  end = clock();\n",
    "  cpu_time_used = ((double) (end - start)) * 1000 / CLOCKS_PER_SEC;\n",
    "  printf(\"GPU basic matrix multiplication in milliseconcs : %.2f\\n\", cpu_time_used);\n",
    " \n",
    "  /* Retrieve the result */\n",
    "  fmatrix_data_to_host(C, d_C);\n",
    "  /* Result correctness */\n",
    "  {\n",
    "    float maxError = 0.0f;\n",
    "    for (int i = 0; i < TILE_WIDTH * SIZE; i++){\n",
    "      for (int j = 0; j < TILE_WIDTH * SIZE; j++){\n",
    "        maxError = max(maxError, abs(getfm(C,i,j)- 2*TILE_WIDTH * SIZE));\n",
    "      }\n",
    "    }   \n",
    "    printf(\"Max error: %f\\n\", maxError);\n",
    "  } \n",
    "  fmatrix_init(C, 0.0); \n",
    "  fmatrix_data_to_device(C, d_C);\n",
    " \n",
    "\n",
    " /************** \"gpu_tiled\" *******************/\n",
    "  start = clock();\n",
    "  mat_mul(d_A, d_B, d_C, \"gpu_tiled\");\n",
    "  end = clock();\n",
    "  cpu_time_used = ((double) (end - start)) * 1000 / CLOCKS_PER_SEC;\n",
    "  printf(\"GPU tiled matrix multiplication in milliseconcs : %.2f\\n\", cpu_time_used);\n",
    " \n",
    "  /* Retrieve the result */\n",
    "  fmatrix_data_to_host(C, d_C);\n",
    "  /* Result correctness */\n",
    "  {\n",
    "    float maxError = 0.0f;\n",
    "    for (int i = 0; i < TILE_WIDTH * SIZE; i++){\n",
    "      for (int j = 0; j < TILE_WIDTH * SIZE; j++){\n",
    "        maxError = max(maxError, abs(getfm(C,i,j)- 2*TILE_WIDTH * SIZE));\n",
    "      }\n",
    "    }   \n",
    "    printf(\"Max error: %f\\n\", maxError);\n",
    "  } \n",
    "  fmatrix_init(C, 0.0); \n",
    "  fmatrix_data_to_device(C, d_C);\n",
    "\n",
    "\n",
    "  /************** \"gpu_cublas\" *******************/\n",
    "  start = clock();\n",
    "  mat_mul(d_A, d_B, d_C, \"gpu_cublas\");\n",
    "  end = clock();\n",
    " \n",
    "  cpu_time_used = ((double) (end - start)) * 1000 / CLOCKS_PER_SEC;\n",
    "  printf(\"GPU cuBLAS matrix multiplication in milliseconcs : %.2f\\n\", cpu_time_used);\n",
    " \n",
    "  /* Retrieve the result */\n",
    "  fmatrix_data_to_host(C, d_C);\n",
    "  /* Result correctness */\n",
    "  {\n",
    "    float maxError = 0.0f;\n",
    "    for (int i = 0; i < TILE_WIDTH * SIZE; i++){\n",
    "      for (int j = 0; j < TILE_WIDTH * SIZE; j++){\n",
    "        maxError = max(maxError, abs(getfm(C,i,j)- 2*TILE_WIDTH * SIZE));\n",
    "      }\n",
    "    }   \n",
    "    printf(\"Max error: %f\\n\", maxError);\n",
    "  } \n",
    "  fmatrix_init(C, 0.0); \n",
    "  fmatrix_data_to_device(C, d_C);\n",
    "\n",
    "  /* Free */ \n",
    "  fmatrix_free_on_host(&A);\n",
    "  fmatrix_free_on_host(&B);\n",
    "  fmatrix_free_on_host(&C);\n",
    "  fmatrix_free_on_device(&d_A);\n",
    "  fmatrix_free_on_device(&d_B);\n",
    "  fmatrix_free_on_device(&d_C);\n",
    "}"
   ]
  },
  {
   "cell_type": "markdown",
   "id": "55e79462",
   "metadata": {
    "id": "HrATC8s9LsDw",
    "papermill": {
     "duration": 0.008865,
     "end_time": "2023-05-20T16:34:30.897082",
     "exception": false,
     "start_time": "2023-05-20T16:34:30.888217",
     "status": "completed"
    },
    "tags": []
   },
   "source": [
    "# Compiling"
   ]
  },
  {
   "cell_type": "code",
   "execution_count": 15,
   "id": "9421daf7",
   "metadata": {
    "execution": {
     "iopub.execute_input": "2023-05-20T16:34:30.916981Z",
     "iopub.status.busy": "2023-05-20T16:34:30.916146Z",
     "iopub.status.idle": "2023-05-20T16:34:36.656374Z",
     "shell.execute_reply": "2023-05-20T16:34:36.655070Z"
    },
    "id": "Z52xd0NMRKXb",
    "papermill": {
     "duration": 5.752802,
     "end_time": "2023-05-20T16:34:36.659067",
     "exception": false,
     "start_time": "2023-05-20T16:34:30.906265",
     "status": "completed"
    },
    "tags": []
   },
   "outputs": [],
   "source": [
    "!/usr/local/cuda/bin/nvcc -lcublas sgemm.cu fmatrix.cu cuda_stuff.cu main.cu"
   ]
  },
  {
   "cell_type": "markdown",
   "id": "2cb70aa0",
   "metadata": {
    "id": "SZVqTfXcLvPr",
    "papermill": {
     "duration": 0.009125,
     "end_time": "2023-05-20T16:34:36.678085",
     "exception": false,
     "start_time": "2023-05-20T16:34:36.668960",
     "status": "completed"
    },
    "tags": []
   },
   "source": [
    "# Experiments"
   ]
  },
  {
   "cell_type": "code",
   "execution_count": 16,
   "id": "df47052e",
   "metadata": {
    "execution": {
     "iopub.execute_input": "2023-05-20T16:34:36.698428Z",
     "iopub.status.busy": "2023-05-20T16:34:36.698079Z",
     "iopub.status.idle": "2023-05-20T16:34:41.015769Z",
     "shell.execute_reply": "2023-05-20T16:34:41.014610Z"
    },
    "executionInfo": {
     "elapsed": 6279,
     "status": "ok",
     "timestamp": 1684586520520,
     "user": {
      "displayName": "Ange VALLI",
      "userId": "07174695979630093145"
     },
     "user_tz": -120
    },
    "id": "B_D8hNmXwi0S",
    "outputId": "91b5f36a-5fd5-4b51-db17-2da4f1eba0d8",
    "papermill": {
     "duration": 4.331013,
     "end_time": "2023-05-20T16:34:41.018665",
     "exception": false,
     "start_time": "2023-05-20T16:34:36.687652",
     "status": "completed"
    },
    "tags": []
   },
   "outputs": [
    {
     "name": "stdout",
     "output_type": "stream",
     "text": [
      "Time taken by CPU in milliseconds: 1068.97\r\n",
      "Max error: 0.000000\r\n",
      "Synchro\r\n",
      "GPU basic matrix multiplication in milliseconcs : 7.62\r\n",
      "Max error: 0.000000\r\n",
      "Synchro\r\n",
      "GPU tiled matrix multiplication in milliseconcs : 1.51\r\n",
      "Max error: 0.000000\r\n",
      "Synchro\r\n",
      "GPU cuBLAS matrix multiplication in milliseconcs : 437.20\r\n",
      "Max error: 0.000000\r\n"
     ]
    }
   ],
   "source": [
    "! ./a.out"
   ]
  },
  {
   "cell_type": "code",
   "execution_count": 17,
   "id": "c0318646",
   "metadata": {
    "execution": {
     "iopub.execute_input": "2023-05-20T16:34:41.039754Z",
     "iopub.status.busy": "2023-05-20T16:34:41.039431Z",
     "iopub.status.idle": "2023-05-20T16:34:44.197317Z",
     "shell.execute_reply": "2023-05-20T16:34:44.196177Z"
    },
    "executionInfo": {
     "elapsed": 8199,
     "status": "ok",
     "timestamp": 1684586613892,
     "user": {
      "displayName": "Ange VALLI",
      "userId": "07174695979630093145"
     },
     "user_tz": -120
    },
    "id": "VGJ6uVNBVHUs",
    "outputId": "37e1e7f5-050c-497c-a0d9-31d8509b8d3c",
    "papermill": {
     "duration": 3.171176,
     "end_time": "2023-05-20T16:34:44.199674",
     "exception": false,
     "start_time": "2023-05-20T16:34:41.028498",
     "status": "completed"
    },
    "tags": []
   },
   "outputs": [
    {
     "name": "stdout",
     "output_type": "stream",
     "text": [
      "========= COMPUTE-SANITIZER\r\n",
      "========= Error: Detected an unsupported driver version. Please update your CUDA installation to 12.0 or newer (driver version 525 or higher)\r\n",
      "========= \r\n",
      "Time taken by CPU in milliseconds: 1243.08\r\n",
      "Max error: 0.000000\r\n",
      "Synchro\r\n",
      "GPU basic matrix multiplication in milliseconcs : 7.61\r\n",
      "Max error: 0.000000\r\n",
      "Synchro\r\n",
      "GPU tiled matrix multiplication in milliseconcs : 1.40\r\n",
      "Max error: 0.000000\r\n",
      "Synchro\r\n",
      "GPU cuBLAS matrix multiplication in milliseconcs : 360.63\r\n",
      "Max error: 0.000000\r\n",
      "========= ERROR SUMMARY: 1 error\r\n"
     ]
    }
   ],
   "source": [
    "!compute-sanitizer ./a.out \"UNIT\""
   ]
  },
  {
   "cell_type": "markdown",
   "id": "28bd8abf",
   "metadata": {
    "id": "17aUKkNJqTDZ",
    "papermill": {
     "duration": 0.009522,
     "end_time": "2023-05-20T16:34:44.219263",
     "exception": false,
     "start_time": "2023-05-20T16:34:44.209741",
     "status": "completed"
    },
    "tags": []
   },
   "source": [
    "# Results\n",
    "\n",
    "Over 10 executions, the mean execution time obtained was :\n",
    "\n",
    "*   CPU : 1078 ms\n",
    "*   GPU basic : 23.94 ms\n",
    "*   GPU tiled : 10.74 ms (TILE_WIDTH=32) et 7.19 ms (TILE_WIDTH=16)\n",
    "*   GPU cublas : 319 ms\n",
    "\n",
    "The matrix multiplication is more efficient with GPU tiled configuration, and is even faster by diminushing TILE_WIDTH value"
   ]
  }
 ],
 "metadata": {
  "kernelspec": {
   "display_name": "Python 3",
   "language": "python",
   "name": "python3"
  },
  "language_info": {
   "codemirror_mode": {
    "name": "ipython",
    "version": 3
   },
   "file_extension": ".py",
   "mimetype": "text/x-python",
   "name": "python",
   "nbconvert_exporter": "python",
   "pygments_lexer": "ipython3",
   "version": "3.10.10"
  },
  "papermill": {
   "default_parameters": {},
   "duration": 41.061148,
   "end_time": "2023-05-20T16:34:44.848986",
   "environment_variables": {},
   "exception": null,
   "input_path": "__notebook__.ipynb",
   "output_path": "__notebook__.ipynb",
   "parameters": {},
   "start_time": "2023-05-20T16:34:03.787838",
   "version": "2.4.0"
  }
 },
 "nbformat": 4,
 "nbformat_minor": 5
}
